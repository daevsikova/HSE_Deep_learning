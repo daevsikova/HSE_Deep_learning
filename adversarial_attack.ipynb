{
  "nbformat": 4,
  "nbformat_minor": 0,
  "metadata": {
    "colab": {
      "name": "Adversarial attack.ipynb",
      "provenance": [],
      "authorship_tag": "ABX9TyMcW1E5lWeSf0IITPTa243C"
    },
    "kernelspec": {
      "name": "python3",
      "display_name": "Python 3"
    },
    "language_info": {
      "name": "python"
    },
    "accelerator": "GPU"
  },
  "cells": [
    {
      "cell_type": "markdown",
      "metadata": {
        "id": "lDpHs07GaUG0"
      },
      "source": [
        "# Adversarial attack on MNIST classifier"
      ]
    },
    {
      "cell_type": "markdown",
      "metadata": {
        "id": "_-btZCg4He6I"
      },
      "source": [
        "### Imports"
      ]
    },
    {
      "cell_type": "code",
      "metadata": {
        "id": "2O05Z9IlR_lK"
      },
      "source": [
        "import torchvision\n",
        "import torch\n",
        "from torchvision.datasets import MNIST\n",
        "from torchvision import transforms\n",
        "import torch.nn as nn\n",
        "import torch.nn.functional as F\n",
        "import torch.optim as optim\n",
        "import numpy as np\n",
        "import matplotlib.pyplot as plt"
      ],
      "execution_count": 5,
      "outputs": []
    },
    {
      "cell_type": "markdown",
      "metadata": {
        "id": "8Uy3mElUHkaw"
      },
      "source": [
        "### Get MNIST Dataset"
      ]
    },
    {
      "cell_type": "code",
      "metadata": {
        "id": "_ZSEkALPtrXf"
      },
      "source": [
        "!rm -rf /content/data\n",
        "!mkdir /content/data"
      ],
      "execution_count": 6,
      "outputs": []
    },
    {
      "cell_type": "code",
      "metadata": {
        "colab": {
          "base_uri": "https://localhost:8080/"
        },
        "id": "WxnLQ4TTspPR",
        "outputId": "91318a67-b51b-4983-92f3-23e8787fe586"
      },
      "source": [
        "!wget www.di.ens.fr/~lelarge/MNIST.tar.gz\n",
        "!tar -zxvf MNIST.tar.gz\n",
        "\n",
        "train_set = MNIST('./', download=True,\n",
        "                    transform=transforms.Compose([\n",
        "                    transforms.ToTensor(),\n",
        "                    ]), train=True)\n",
        "\n",
        "\n",
        "test_set = MNIST('./', download=True,\n",
        "                transform=transforms.Compose([\n",
        "                transforms.ToTensor(),\n",
        "                ]), train=False)"
      ],
      "execution_count": 7,
      "outputs": [
        {
          "output_type": "stream",
          "text": [
            "--2021-03-20 13:41:05--  http://www.di.ens.fr/~lelarge/MNIST.tar.gz\n",
            "Resolving www.di.ens.fr (www.di.ens.fr)... 129.199.99.14\n",
            "Connecting to www.di.ens.fr (www.di.ens.fr)|129.199.99.14|:80... connected.\n",
            "HTTP request sent, awaiting response... 302 Found\n",
            "Location: https://www.di.ens.fr/~lelarge/MNIST.tar.gz [following]\n",
            "--2021-03-20 13:41:05--  https://www.di.ens.fr/~lelarge/MNIST.tar.gz\n",
            "Connecting to www.di.ens.fr (www.di.ens.fr)|129.199.99.14|:443... connected.\n",
            "HTTP request sent, awaiting response... 200 OK\n",
            "Length: unspecified [application/x-gzip]\n",
            "Saving to: ‘MNIST.tar.gz’\n",
            "\n",
            "MNIST.tar.gz            [              <=>   ]  33.20M  11.2MB/s    in 3.0s    \n",
            "\n",
            "2021-03-20 13:41:09 (11.2 MB/s) - ‘MNIST.tar.gz’ saved [34813078]\n",
            "\n",
            "MNIST/\n",
            "MNIST/raw/\n",
            "MNIST/raw/train-labels-idx1-ubyte\n",
            "MNIST/raw/t10k-labels-idx1-ubyte.gz\n",
            "MNIST/raw/t10k-labels-idx1-ubyte\n",
            "MNIST/raw/t10k-images-idx3-ubyte.gz\n",
            "MNIST/raw/train-images-idx3-ubyte\n",
            "MNIST/raw/train-labels-idx1-ubyte.gz\n",
            "MNIST/raw/t10k-images-idx3-ubyte\n",
            "MNIST/raw/train-images-idx3-ubyte.gz\n",
            "MNIST/processed/\n",
            "MNIST/processed/training.pt\n",
            "MNIST/processed/test.pt\n"
          ],
          "name": "stdout"
        }
      ]
    },
    {
      "cell_type": "code",
      "metadata": {
        "id": "0qZ-iMDCsyNQ"
      },
      "source": [
        "train_loader = torch.utils.data.DataLoader(train_set, batch_size=42,\n",
        "                                          shuffle=True, num_workers=2)\n",
        "\n",
        "test_loader = torch.utils.data.DataLoader(test_set, batch_size=1,\n",
        "                                         shuffle=False, num_workers=2)"
      ],
      "execution_count": 279,
      "outputs": []
    },
    {
      "cell_type": "markdown",
      "metadata": {
        "id": "j867Ih-nHrl3"
      },
      "source": [
        "### Model"
      ]
    },
    {
      "cell_type": "code",
      "metadata": {
        "id": "BucOtT6sxXFS"
      },
      "source": [
        "device = torch.device('cuda')"
      ],
      "execution_count": 288,
      "outputs": []
    },
    {
      "cell_type": "code",
      "metadata": {
        "id": "yrn7zFZy2bhZ"
      },
      "source": [
        "class LeNet(nn.Module):\n",
        "    def __init__(self, n_classes):\n",
        "        super(LeNet, self).__init__()\n",
        "        self.conv1 = nn.Conv2d(1, 10, kernel_size=5)\n",
        "        self.conv2 = nn.Conv2d(10, 20, kernel_size=5)\n",
        "        self.conv2_drop = nn.Dropout2d()\n",
        "        self.fc1 = nn.Linear(320, 120)\n",
        "        self.fc2 = nn.Linear(120, n_classes)\n",
        "\n",
        "    def forward(self, x):\n",
        "        x = F.relu(F.max_pool2d(self.conv1(x), 2))\n",
        "        x = F.relu(F.max_pool2d(self.conv2_drop(self.conv2(x)), 2))\n",
        "        x = x.view(-1, 320)\n",
        "        x = F.relu(self.fc1(x))\n",
        "        x = F.dropout(x, training=self.training)\n",
        "        x = self.fc2(x)\n",
        "\n",
        "        return x"
      ],
      "execution_count": 289,
      "outputs": []
    },
    {
      "cell_type": "code",
      "metadata": {
        "id": "AV7Q1mv1AaSa"
      },
      "source": [
        "def accuracy(model, data_loader, device):\n",
        "    correct_pred = 0 \n",
        "    n = 0\n",
        "    \n",
        "    with torch.no_grad():\n",
        "        model.eval()\n",
        "        \n",
        "        for X, y_true in data_loader:\n",
        "\n",
        "            X = X.to(device)\n",
        "            y_true = y_true.to(device)\n",
        "\n",
        "            logits = model(X)\n",
        "            probs = F.softmax(logits, dim=1)\n",
        "            y_pred = torch.argmax(probs, 1)\n",
        "\n",
        "            n += y_true.size(0)\n",
        "            correct_pred += (y_pred == y_true).sum()\n",
        "\n",
        "    return correct_pred.float() / n"
      ],
      "execution_count": 296,
      "outputs": []
    },
    {
      "cell_type": "code",
      "metadata": {
        "id": "ES3C7J2s3njd"
      },
      "source": [
        "def train(train_loader, model, criterion, optimizer, device):\n",
        "    model.train()\n",
        "    running_loss = 0\n",
        "    \n",
        "    for X, y_true in train_loader:\n",
        "        optimizer.zero_grad()\n",
        "        X = X.to(device)\n",
        "        y_true = y_true.to(device)\n",
        "        y_hat = model(X)\n",
        "        loss = criterion(y_hat, y_true) \n",
        "        running_loss += loss.item() * X.size(0)\n",
        "        loss.backward()\n",
        "        optimizer.step()\n",
        "        \n",
        "    epoch_loss = running_loss / len(train_loader.dataset)\n",
        "    return model, optimizer, epoch_loss"
      ],
      "execution_count": 297,
      "outputs": []
    },
    {
      "cell_type": "code",
      "metadata": {
        "id": "yYHbn7bk7pjU"
      },
      "source": [
        "def validate(valid_loader, model, criterion, device):\n",
        "    model.eval()\n",
        "    running_loss = 0\n",
        "    \n",
        "    for X, y_true in valid_loader:\n",
        "        X = X.to(device)\n",
        "        y_true = y_true.to(device)\n",
        "        y_hat = model(X) \n",
        "        loss = criterion(y_hat, y_true) \n",
        "        running_loss += loss.item() * X.size(0)\n",
        "\n",
        "    epoch_loss = running_loss / len(valid_loader.dataset)\n",
        "        \n",
        "    return model, epoch_loss"
      ],
      "execution_count": 298,
      "outputs": []
    },
    {
      "cell_type": "code",
      "metadata": {
        "id": "6zXDEYuE71F5"
      },
      "source": [
        "def training(model, \n",
        "            criterion, \n",
        "            optimizer, \n",
        "            train_loader, \n",
        "            valid_loader,\n",
        "            epochs,\n",
        "            device):\n",
        "    \n",
        "    best_loss = 1e10\n",
        "    train_losses = []\n",
        "    valid_losses = []\n",
        " \n",
        "    for epoch in range(0, epochs):\n",
        "        # training\n",
        "        model, optimizer, train_loss = train(train_loader, model, criterion, optimizer, device)\n",
        "        train_losses.append(train_loss)\n",
        "\n",
        "        # validation\n",
        "        with torch.no_grad():\n",
        "            model, valid_loss = validate(valid_loader, model, criterion, device)\n",
        "            valid_losses.append(valid_loss)\n",
        "            \n",
        "        train_acc = accuracy(model, train_loader, device=device)\n",
        "        valid_acc = accuracy(model, valid_loader, device=device)\n",
        "            \n",
        "        print(f'Epoch: {epoch}  '\n",
        "              f'Train loss: {train_loss:.4f}  '\n",
        "              f'Valid loss: {valid_loss:.4f}  '\n",
        "              f'Train accuracy: {train_acc:.2f}  '\n",
        "              f'Valid accuracy: {valid_acc:.2f}')\n",
        "    \n",
        "    return model, optimizer, (train_losses, valid_losses)"
      ],
      "execution_count": 299,
      "outputs": []
    },
    {
      "cell_type": "markdown",
      "metadata": {
        "id": "VpQ5E79THxE6"
      },
      "source": [
        "### Training"
      ]
    },
    {
      "cell_type": "code",
      "metadata": {
        "id": "Tnk80qpj8HTJ"
      },
      "source": [
        "lr = 1e-3\n",
        "epochs = 15\n",
        "model = LeNet(n_classes=10).to(device)\n",
        "optimizer = torch.optim.Adam(model.parameters(), lr=lr)\n",
        "criterion = nn.CrossEntropyLoss()"
      ],
      "execution_count": 300,
      "outputs": []
    },
    {
      "cell_type": "code",
      "metadata": {
        "colab": {
          "base_uri": "https://localhost:8080/"
        },
        "id": "0781XVBr8xrJ",
        "outputId": "0ea606eb-de2f-42e0-c916-dc260fb4f157"
      },
      "source": [
        "model, _, losses = training(model,\n",
        "                            criterion, \n",
        "                            optimizer, \n",
        "                            train_loader, \n",
        "                            test_loader, \n",
        "                            epochs, \n",
        "                            device)"
      ],
      "execution_count": 301,
      "outputs": [
        {
          "output_type": "stream",
          "text": [
            "Epoch: 0  Train loss: 0.4229  Valid loss: 0.0949  Train accuracy: 0.97  Valid accuracy: 0.97\n",
            "Epoch: 1  Train loss: 0.1934  Valid loss: 0.0740  Train accuracy: 0.98  Valid accuracy: 0.98\n",
            "Epoch: 2  Train loss: 0.1545  Valid loss: 0.0510  Train accuracy: 0.98  Valid accuracy: 0.98\n",
            "Epoch: 3  Train loss: 0.1326  Valid loss: 0.0468  Train accuracy: 0.98  Valid accuracy: 0.98\n",
            "Epoch: 4  Train loss: 0.1214  Valid loss: 0.0417  Train accuracy: 0.99  Valid accuracy: 0.99\n",
            "Epoch: 5  Train loss: 0.1129  Valid loss: 0.0371  Train accuracy: 0.99  Valid accuracy: 0.99\n",
            "Epoch: 6  Train loss: 0.1075  Valid loss: 0.0353  Train accuracy: 0.99  Valid accuracy: 0.99\n",
            "Epoch: 7  Train loss: 0.1008  Valid loss: 0.0369  Train accuracy: 0.99  Valid accuracy: 0.99\n",
            "Epoch: 8  Train loss: 0.0977  Valid loss: 0.0345  Train accuracy: 0.99  Valid accuracy: 0.99\n",
            "Epoch: 9  Train loss: 0.0912  Valid loss: 0.0350  Train accuracy: 0.99  Valid accuracy: 0.99\n",
            "Epoch: 10  Train loss: 0.0895  Valid loss: 0.0338  Train accuracy: 0.99  Valid accuracy: 0.99\n",
            "Epoch: 11  Train loss: 0.0868  Valid loss: 0.0324  Train accuracy: 0.99  Valid accuracy: 0.99\n",
            "Epoch: 12  Train loss: 0.0851  Valid loss: 0.0328  Train accuracy: 0.99  Valid accuracy: 0.99\n",
            "Epoch: 13  Train loss: 0.0804  Valid loss: 0.0304  Train accuracy: 0.99  Valid accuracy: 0.99\n",
            "Epoch: 14  Train loss: 0.0772  Valid loss: 0.0304  Train accuracy: 0.99  Valid accuracy: 0.99\n"
          ],
          "name": "stdout"
        }
      ]
    },
    {
      "cell_type": "code",
      "metadata": {
        "colab": {
          "base_uri": "https://localhost:8080/",
          "height": 361
        },
        "id": "s_SZfHu19hwC",
        "outputId": "b1363d6e-fb54-4337-93cb-a87b5b27149f"
      },
      "source": [
        "plt.style.use('seaborn')\n",
        "train_losses, val_losses = map(np.array, losses) \n",
        "plt.plot(train_losses, label='Train')\n",
        "plt.plot(val_losses, label='Validate')\n",
        "plt.xlabel('epoch')\n",
        "plt.ylabel('loss')\n",
        "plt.legend()\n",
        "plt.show()"
      ],
      "execution_count": 304,
      "outputs": [
        {
          "output_type": "display_data",
          "data": {
            "image/png": "[encoded data removed]",
            "text/plain": [
              "<Figure size 576x396 with 1 Axes>"
            ]
          },
          "metadata": {
            "tags": []
          }
        }
      ]
    },
    {
      "cell_type": "markdown",
      "metadata": {
        "id": "BEOQpsZ9JGG5"
      },
      "source": [
        "### Adversarial attack"
      ]
    },
    {
      "cell_type": "code",
      "metadata": {
        "id": "HyzOs_6LJYSp"
      },
      "source": [
        "def apply_attack(model, device, test_loader, eps):\n",
        "    correct = 0\n",
        "    adv_examples = []\n",
        "\n",
        "    for X, y in test_loader:\n",
        "\n",
        "        X, y = X.to(device), y.to(device)\n",
        "        X.requires_grad = True\n",
        "        logits = model(X)\n",
        "        output = F.softmax(logits, dim=1)\n",
        "        pred = output.max(1, keepdim=True)[1]\n",
        "\n",
        "        if pred.item() != y.item():\n",
        "            continue\n",
        "\n",
        "        loss = F.nll_loss(output, y)\n",
        "        model.zero_grad()\n",
        "        loss.backward()\n",
        "        grad = X.grad.data\n",
        "\n",
        "        # FGSM attack\n",
        "        adv_data = X + eps * grad.sign()\n",
        "        adv_data = torch.clamp(adv_data, 0, 1)\n",
        "        output = model(adv_data)\n",
        "        output = F.softmax(output, dim=1)\n",
        "\n",
        "        final_pred = output.max(1, keepdim=True)[1]\n",
        "        if final_pred.item() == y.item():\n",
        "            correct += 1\n",
        "        else:\n",
        "            adv_ex = adv_data.squeeze().detach().cpu().numpy()\n",
        "            adv_examples.append((pred.item(), final_pred.item(), adv_ex))\n",
        "\n",
        "    acc = correct / float(len(test_loader))\n",
        "    print(\"Accuracy = {}\".format(acc))\n",
        "\n",
        "    return acc, adv_examples"
      ],
      "execution_count": 323,
      "outputs": []
    },
    {
      "cell_type": "code",
      "metadata": {
        "colab": {
          "base_uri": "https://localhost:8080/"
        },
        "id": "tOMtTnLaNAJo",
        "outputId": "37eb0cef-cf64-4970-a43e-3511c451cf39"
      },
      "source": [
        "model.eval()\n",
        "\n",
        "accuracies = []\n",
        "examples = []\n",
        "epsilon = 0.15\n",
        "\n",
        "acc, ex = apply_attack(model, device, test_loader, epsilon)\n",
        "accuracies.append(acc)\n",
        "examples.append(ex)"
      ],
      "execution_count": 324,
      "outputs": [
        {
          "output_type": "stream",
          "text": [
            "Accuracy = 0.6128\n"
          ],
          "name": "stdout"
        }
      ]
    },
    {
      "cell_type": "code",
      "metadata": {
        "colab": {
          "base_uri": "https://localhost:8080/",
          "height": 438
        },
        "id": "TRK2Bv2MNDyh",
        "outputId": "128bd583-e0cb-4bb5-cc9d-5a54c6fbfcdf"
      },
      "source": [
        "cnt = 0\n",
        "plt.figure(figsize=(8,10))\n",
        "\n",
        "for _ in range(10):\n",
        "    ind = np.random.randint(len(examples[0]))\n",
        "    target, adv, adv_img = examples[0][ind]\n",
        "    cnt += 1\n",
        "    plt.subplot(2, 5, cnt)\n",
        "    plt.xticks([], [])\n",
        "    plt.yticks([], [])\n",
        "    plt.title(\"Before attack: {}\\nAfter attack: {}\".format(target, adv))\n",
        "    plt.imshow(adv_img, cmap=\"gray\")\n",
        "plt.tight_layout()\n",
        "plt.show()"
      ],
      "execution_count": 328,
      "outputs": [
        {
          "output_type": "display_data",
          "data": {
            "image/png": "[encoded data removed]",
            "text/plain": [
              "<Figure size 576x720 with 10 Axes>"
            ]
          },
          "metadata": {
            "tags": []
          }
        }
      ]
    },
    {
      "cell_type": "code",
      "metadata": {
        "id": "ZYBgJoY6GSTd"
      },
      "source": [
        ""
      ],
      "execution_count": null,
      "outputs": []
    }
  ]
}
