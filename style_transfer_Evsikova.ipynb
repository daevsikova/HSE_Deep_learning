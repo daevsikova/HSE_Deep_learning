{
  "nbformat": 4,
  "nbformat_minor": 0,
  "metadata": {
    "colab": {
      "name": "Style_transfer_Evsikova.ipynb",
      "provenance": [],
      "authorship_tag": "ABX9TyNLJV/+6iqGr1SYUxkUW8R7"
    },
    "kernelspec": {
      "name": "python3",
      "display_name": "Python 3"
    },
    "language_info": {
      "name": "python"
    },
    "accelerator": "GPU"
  },
  "cells": [
    {
      "cell_type": "markdown",
      "metadata": {
        "id": "iXV7LSkVEMtP"
      },
      "source": [
        "## Imports"
      ]
    },
    {
      "cell_type": "code",
      "metadata": {
        "colab": {
          "base_uri": "https://localhost:8080/"
        },
        "id": "A-Z17b5TGUBb",
        "outputId": "b4e27df5-dedf-45b6-e672-6180e21bdd96"
      },
      "source": [
        "!nvidia-smi"
      ],
      "execution_count": null,
      "outputs": [
        {
          "output_type": "stream",
          "text": [
            "Fri Apr 16 15:02:38 2021       \n",
            "+-----------------------------------------------------------------------------+\n",
            "| NVIDIA-SMI 460.67       Driver Version: 460.32.03    CUDA Version: 11.2     |\n",
            "|-------------------------------+----------------------+----------------------+\n",
            "| GPU  Name        Persistence-M| Bus-Id        Disp.A | Volatile Uncorr. ECC |\n",
            "| Fan  Temp  Perf  Pwr:Usage/Cap|         Memory-Usage | GPU-Util  Compute M. |\n",
            "|                               |                      |               MIG M. |\n",
            "|===============================+======================+======================|\n",
            "|   0  Tesla T4            Off  | 00000000:00:04.0 Off |                    0 |\n",
            "| N/A   37C    P8     9W /  70W |      0MiB / 15109MiB |      0%      Default |\n",
            "|                               |                      |                  N/A |\n",
            "+-------------------------------+----------------------+----------------------+\n",
            "                                                                               \n",
            "+-----------------------------------------------------------------------------+\n",
            "| Processes:                                                                  |\n",
            "|  GPU   GI   CI        PID   Type   Process name                  GPU Memory |\n",
            "|        ID   ID                                                   Usage      |\n",
            "|=============================================================================|\n",
            "|  No running processes found                                                 |\n",
            "+-----------------------------------------------------------------------------+\n"
          ],
          "name": "stdout"
        }
      ]
    },
    {
      "cell_type": "code",
      "metadata": {
        "id": "ck_GRt_uDinS"
      },
      "source": [
        "import torch\n",
        "import torch.nn as nn\n",
        "import torch.nn.functional as F\n",
        "import torch.optim as optim\n",
        "import cv2\n",
        "import matplotlib.pyplot as plt\n",
        "import torchvision.transforms as transforms\n",
        "import torchvision.models as models\n",
        "import copy\n",
        "from PIL import Image"
      ],
      "execution_count": null,
      "outputs": []
    },
    {
      "cell_type": "code",
      "metadata": {
        "id": "bFe3BgNUGRaE"
      },
      "source": [
        "device = torch.device(\"cuda\")"
      ],
      "execution_count": null,
      "outputs": []
    },
    {
      "cell_type": "code",
      "metadata": {
        "colab": {
          "base_uri": "https://localhost:8080/"
        },
        "id": "uTGefP8FG7CL",
        "outputId": "567b709d-6f85-4d60-8b6e-e3367d7c84b8"
      },
      "source": [
        "!wget -O building.jpg https://peterburg.center/sites/default/files/0_pravitelstvuyushchiy_senat_-_konstitucionnyy_sud_rf.jpg\n",
        "!wget -O art.jpg https://previews.123rf.com/images/anankkml/anankkml1104/anankkml110400030/9355937-texture-of-zebra-style-fabric.jpg"
      ],
      "execution_count": null,
      "outputs": [
        {
          "output_type": "stream",
          "text": [
            "--2021-04-16 15:02:40--  https://peterburg.center/sites/default/files/0_pravitelstvuyushchiy_senat_-_konstitucionnyy_sud_rf.jpg\n",
            "Resolving peterburg.center (peterburg.center)... 172.67.150.230, 104.21.12.3, 2606:4700:3034::ac43:96e6, ...\n",
            "Connecting to peterburg.center (peterburg.center)|172.67.150.230|:443... connected.\n",
            "HTTP request sent, awaiting response... 200 OK\n",
            "Length: 45712 (45K) [image/jpeg]\n",
            "Saving to: ‘building.jpg’\n",
            "\n",
            "building.jpg        100%[===================>]  44.64K  --.-KB/s    in 0.007s  \n",
            "\n",
            "2021-04-16 15:02:41 (6.07 MB/s) - ‘building.jpg’ saved [45712/45712]\n",
            "\n",
            "--2021-04-16 15:02:41--  https://previews.123rf.com/images/anankkml/anankkml1104/anankkml110400030/9355937-texture-of-zebra-style-fabric.jpg\n",
            "Resolving previews.123rf.com (previews.123rf.com)... 52.85.132.73, 52.85.132.122, 52.85.132.86, ...\n",
            "Connecting to previews.123rf.com (previews.123rf.com)|52.85.132.73|:443... connected.\n",
            "HTTP request sent, awaiting response... 200 OK\n",
            "Length: 244510 (239K) [image/jpeg]\n",
            "Saving to: ‘art.jpg’\n",
            "\n",
            "art.jpg             100%[===================>] 238.78K  --.-KB/s    in 0.006s  \n",
            "\n",
            "2021-04-16 15:02:42 (38.8 MB/s) - ‘art.jpg’ saved [244510/244510]\n",
            "\n"
          ],
          "name": "stdout"
        }
      ]
    },
    {
      "cell_type": "code",
      "metadata": {
        "id": "ntpvAxq0GeHG"
      },
      "source": [
        "imsize = 512\n",
        "\n",
        "loader = transforms.Compose([transforms.Resize((imsize, imsize)),\n",
        "                             transforms.ToTensor()])\n",
        "\n",
        "def image_loader(img_name):\n",
        "    # img = cv2.imread(img_name)\n",
        "    # img = img / 255\n",
        "    img = Image.open(img_name)\n",
        "    # img = torch.from_numpy(img)\n",
        "    img = loader(img).unsqueeze(0)\n",
        "    return img.to(device, torch.float)\n",
        "\n",
        "style_img = image_loader(\"art.jpg\")\n",
        "content_img = image_loader(\"building.jpg\")\n",
        "\n",
        "assert style_img.size() == content_img.size(), \\\n",
        "    \"we need to import style and content images of the same size\""
      ],
      "execution_count": null,
      "outputs": []
    },
    {
      "cell_type": "code",
      "metadata": {
        "colab": {
          "base_uri": "https://localhost:8080/"
        },
        "id": "prU2nTTII1Il",
        "outputId": "6cc11f41-da9c-4311-c581-0a36b80b9cd2"
      },
      "source": [
        "style_img.size()"
      ],
      "execution_count": null,
      "outputs": [
        {
          "output_type": "execute_result",
          "data": {
            "text/plain": [
              "torch.Size([1, 3, 512, 512])"
            ]
          },
          "metadata": {
            "tags": []
          },
          "execution_count": 14
        }
      ]
    },
    {
      "cell_type": "code",
      "metadata": {
        "colab": {
          "base_uri": "https://localhost:8080/"
        },
        "id": "0mtugw5DNS_V",
        "outputId": "635944a2-966a-4415-ed44-5a4b7baf5995"
      },
      "source": [
        "content_img.size()"
      ],
      "execution_count": null,
      "outputs": [
        {
          "output_type": "execute_result",
          "data": {
            "text/plain": [
              "torch.Size([1, 3, 512, 512])"
            ]
          },
          "metadata": {
            "tags": []
          },
          "execution_count": 15
        }
      ]
    },
    {
      "cell_type": "code",
      "metadata": {
        "id": "9qlpjgPRNVIB"
      },
      "source": [
        ""
      ],
      "execution_count": null,
      "outputs": []
    }
  ]
}